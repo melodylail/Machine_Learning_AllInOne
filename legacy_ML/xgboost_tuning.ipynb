{
 "cells": [
  {
   "cell_type": "code",
   "execution_count": 4,
   "metadata": {
    "ExecuteTime": {
     "end_time": "2018-05-24T05:28:29.809483Z",
     "start_time": "2018-05-24T05:28:29.738295Z"
    }
   },
   "outputs": [],
   "source": [
    "import pandas as pd\n",
    "import numpy as np\n",
    "import xgboost as xgb\n",
    "from xgboost.sklearn import XGBClassifier\n",
    "from sklearn import cross_validation, metrics   #Additional scklearn functions\n",
    "from sklearn.grid_search import GridSearchCV   #Perforing grid search\n",
    "\n",
    "import matplotlib.pylab as plt\n",
    "%matplotlib inline\n",
    "from matplotlib.pylab import rcParams\n",
    "from sklearn.cross_validation import train_test_split\n",
    "\n",
    "rcParams['figure.figsize'] = 12, 4\n",
    "\n",
    "#train = pd.read_csv('train_modified.csv')\n",
    "#target = 'Disbursed'\n",
    "#IDcol = 'ID'\n",
    "\n"
   ]
  },
  {
   "cell_type": "code",
   "execution_count": 5,
   "metadata": {
    "ExecuteTime": {
     "end_time": "2018-05-24T05:28:30.928206Z",
     "start_time": "2018-05-24T05:28:30.887094Z"
    }
   },
   "outputs": [],
   "source": [
    "def modelfit(alg, X_train, X_test, y_train, y_test, predictors, useTrainCV=True, cv_folds=5, early_stopping_rounds=50):\n",
    "    \n",
    "    if useTrainCV:\n",
    "        xgb_param = alg.get_xgb_params()\n",
    "        #xgtrain = xgb.DMatrix(dtrain[predictors].values, label=dtrain[target].values)\n",
    "        xgtrain = xgb.DMatrix(X_train, label=y_train)\n",
    "        \n",
    "        cvresult = xgb.cv(xgb_param, xgtrain, num_boost_round=alg.get_params()['n_estimators'], nfold=cv_folds,\n",
    "            metrics='auc', early_stopping_rounds=early_stopping_rounds)\n",
    "        alg.set_params(n_estimators=cvresult.shape[0])\n",
    "    \n",
    "    #Fit the algorithm on the data\n",
    "    #alg.fit(dtrain[predictors], dtrain['Disbursed'], eval_metric='auc')\n",
    "    alg.fit(X_train, y_train, eval_metric='auc')\n",
    "        \n",
    "    #Predict training set:\n",
    "    dtrain_predictions = alg.predict(X_test)\n",
    "    dtrain_predprob = alg.predict_proba(X_test)[:,1]\n",
    "        \n",
    "    precision = metrics.precision_score(y_test, dtrain_predictions)\n",
    "    recall = metrics.recall_score(y_test, dtrain_predictions)\n",
    "    #Print model report:\n",
    "    print (\"\\nModel Report\")\n",
    "    print (\"Accuracy : %.4g\" % metrics.accuracy_score(y_test, dtrain_predictions))\n",
    "    print('precision: %.2f%%, recall: %.2f%%' % (100 * precision, 100 * recall))\n",
    "    print (\"AUC Score (Train): %f\" % metrics.roc_auc_score(y_test, dtrain_predprob))\n",
    "\n",
    "                    \n",
    "#    feat_imp = pd.Series(alg.booster().get_fscore()).sort_values(ascending=False)\n",
    "#    feat_imp.plot(kind='bar', title='Feature Importances')\n",
    "#    plt.ylabel('Feature Importance Score')"
   ]
  },
  {
   "cell_type": "code",
   "execution_count": 6,
   "metadata": {
    "ExecuteTime": {
     "end_time": "2018-05-24T05:29:31.973628Z",
     "start_time": "2018-05-24T05:28:32.262753Z"
    }
   },
   "outputs": [
    {
     "name": "stdout",
     "output_type": "stream",
     "text": [
      "\n",
      "Model Report\n",
      "Accuracy : 0.9225\n",
      "precision: 61.49%, recall: 17.57%\n",
      "AUC Score (Train): 0.854712\n"
     ]
    },
    {
     "name": "stderr",
     "output_type": "stream",
     "text": [
      "C:\\Dev\\anaconda3\\lib\\site-packages\\sklearn\\preprocessing\\label.py:151: DeprecationWarning: The truth value of an empty array is ambiguous. Returning False, but in future this will result in an error. Use `array.size > 0` to check that an array is not empty.\n",
      "  if diff:\n"
     ]
    }
   ],
   "source": [
    "#Choose all predictors except target & IDcols\n",
    "# load data\n",
    "headers = ['CK_AGMT_BAL', 'CK_COMP_LAST_MON_BAL1', 'CK_COMP_LAST_MON_BAL2', 'CK_COMP_LAST_MON_BAL3', 'CK_YEAR_AVG_BAL', 'CK_COMP_LAST_MON_YEARAVG_BAL1', 'CK_COMP_LAST_MON_YEARAVG_BAL2', 'CK_COMP_LAST_MON_YEARAVG_BAL3', 'DK_AGMT_BAL', 'DK_COMP_LAST_MON_BAL1', 'DK_COMP_LAST_MON_BAL2', 'DK_COMP_LAST_MON_BAL3', 'DK_COMP_LAST_MON_YEARAVG_BAL1', 'DK_COMP_LAST_MON_YEARAVG_BAL2', 'DK_COMP_LAST_MON_YEARAVG_BAL3', 'FIN_BAL', 'FIN_BAL_SM', 'FIN_BAL_SQ', 'YEAR_FIN_BAL', 'YEAR_FIN_BAL_SM', 'YEAR_FIN_BAL_SQ', 'DF_AMT', 'DF_RT', 'DF_CNT', 'LST_1M_AMT', 'LST_1M_TT', 'LST_1M_CNT', 'LST_2M_AMT', 'LST_2M_TT', 'LST_2M_CNT', 'DK_SHUI', 'DK_DIAN', 'DK_MEI', 'IND_JBH', 'IND_WY', 'IND_YTZH', 'IND_YTCYL', 'IND_BGYDT', 'IND_JST', 'IND_DF', 'IND_CCARD', 'IND_FUND', 'IND_QS', 'IND_TXP', 'IND_BOND', 'IND_SX', 'IND_BX', 'IND_DLB', 'IND_SFCG', 'IND_YQT', 'IND_SJYH', 'IND_TALC', 'IND_GOLD', 'IND_JYT', 'IND_EJZH', 'IND_XJC', 'IND_YTDB', 'IND_PJC', 'IND_WBXJC', 'IND_LDXJC', 'IND_JZSF', 'IND_YQZTC', 'IND_YTSZ', 'IND_BZT', 'IND_ZBT', 'IND_JSK', 'IND_EJFH', 'IND_DLZY', 'IND_DLDF', 'IND_DLMK', 'IND_ZHQC', 'IND_DFGZ', 'IND_CKH', 'IND_HQCK', 'IND_XDCK', 'IND_DWHQ', 'IND_SG', 'IND_YQZZ', 'IND_RZRQ', 'REG_CAPT_AMT', 'A00', 'A01', 'A02', 'B00', 'B01', 'B02', 'B03', 'B04', 'B05', 'B06', 'B07', 'B08', 'B09', 'B10', 'B11', 'B12', 'B13', 'B14', 'B15', 'C00', 'C01', 'C02', 'C03', 'D00', 'D01', 'D02', 'D03', 'D04', 'E00', 'E01', 'E02', 'F00', 'F01', 'F02', 'F03', 'F04', 'F05', 'F06', 'F07', 'G00', 'G01', 'G02', 'G03', 'G04', 'G05', 'G06', 'M00', 'M01', 'M02', 'M03', 'M04', 'M05', 'M06', 'M07', 'Y01', 'Z00', 'Z01', 'INTER_RATING_CD', 'O_INDUSTRY_CD', 'S_INDUSTRY_CD', 'T_INDUSTRY_CD', 'F_INDUSTRY_CD', 'CUS_SCALE_TP_CD', 'ORG_TP_CD', 'INDUSTRY_TP_CD', 'INDUSTRY_MAIN_TP_CD', 'CUS_LAYER_CD', 'CUS_CLASS_CD', 'CUS_GRADE_CD', 'LMT_STATE_CD', 'CREDIT_LINE_CD', 'AERA', 'BAS_AC_IS_BOCOM', 'OWN_GROUP_LAYER', 'OWN_GROUP_CLASS', 'OWN_GROUP_GRADE', 'STRATEGIC_CUST', 'STRATEGIC_MGR_CODE', 'APPROVED_LMT', 'APPROVED_RISK_LMT', 'BAL', 'RISK_BAL', 'ORI_BAL', 'ZT_LMT', 'LXD_LMT', 'ENTSTATUS', 'IS_SHIXIN', 'IS_ANDI', 'IS_PERFORMANCE', 'IS_GL_SHIXIN', 'IS_GL_ANDI', 'IS_GL_PERFORMANCE', 'IS_YJ']\n",
    "update_pd = pd.read_csv(\"C:\\\\Dev\\TSS\\\\Bank_COMM\\\\risk_update_3.csv\", sep = ',', names = headers)\n",
    "    \n",
    "#test_pd = update_pd.fillna(0)\n",
    "\n",
    "# let xgboost to choose best missing data\n",
    "test_pd = update_pd\n",
    "    \n",
    "X_train, X_test, y_train, y_test = train_test_split(test_pd.iloc[:,1:172], test_pd['IS_YJ'], test_size=0.3, random_state=0)\n",
    "\n",
    "#predictors = [x for x in train.columns if x not in [target, IDcol]]\n",
    "\n",
    "predictors = ['CK_AGMT_BAL', 'CK_COMP_LAST_MON_BAL1', 'CK_COMP_LAST_MON_BAL2', 'CK_COMP_LAST_MON_BAL3', 'CK_YEAR_AVG_BAL', 'CK_COMP_LAST_MON_YEARAVG_BAL1', 'CK_COMP_LAST_MON_YEARAVG_BAL2', 'CK_COMP_LAST_MON_YEARAVG_BAL3', 'DK_AGMT_BAL', 'DK_COMP_LAST_MON_BAL1', 'DK_COMP_LAST_MON_BAL2', 'DK_COMP_LAST_MON_BAL3', 'DK_COMP_LAST_MON_YEARAVG_BAL1', 'DK_COMP_LAST_MON_YEARAVG_BAL2', 'DK_COMP_LAST_MON_YEARAVG_BAL3', 'FIN_BAL', 'FIN_BAL_SM', 'FIN_BAL_SQ', 'YEAR_FIN_BAL', 'YEAR_FIN_BAL_SM', 'YEAR_FIN_BAL_SQ', 'DF_AMT', 'DF_RT', 'DF_CNT', 'LST_1M_AMT', 'LST_1M_TT', 'LST_1M_CNT', 'LST_2M_AMT', 'LST_2M_TT', 'LST_2M_CNT', 'DK_SHUI', 'DK_DIAN', 'DK_MEI', 'IND_JBH', 'IND_WY', 'IND_YTZH', 'IND_YTCYL', 'IND_BGYDT', 'IND_JST', 'IND_DF', 'IND_CCARD', 'IND_FUND', 'IND_QS', 'IND_TXP', 'IND_BOND', 'IND_SX', 'IND_BX', 'IND_DLB', 'IND_SFCG', 'IND_YQT', 'IND_SJYH', 'IND_TALC', 'IND_GOLD', 'IND_JYT', 'IND_EJZH', 'IND_XJC', 'IND_YTDB', 'IND_PJC', 'IND_WBXJC', 'IND_LDXJC', 'IND_JZSF', 'IND_YQZTC', 'IND_YTSZ', 'IND_BZT', 'IND_ZBT', 'IND_JSK', 'IND_EJFH', 'IND_DLZY', 'IND_DLDF', 'IND_DLMK', 'IND_ZHQC', 'IND_DFGZ', 'IND_CKH', 'IND_HQCK', 'IND_XDCK', 'IND_DWHQ', 'IND_SG', 'IND_YQZZ', 'IND_RZRQ', 'REG_CAPT_AMT', 'A00', 'A01', 'A02', 'B00', 'B01', 'B02', 'B03', 'B04', 'B05', 'B06', 'B07', 'B08', 'B09', 'B10', 'B11', 'B12', 'B13', 'B14', 'B15', 'C00', 'C01', 'C02', 'C03', 'D00', 'D01', 'D02', 'D03', 'D04', 'E00', 'E01', 'E02', 'F00', 'F01', 'F02', 'F03', 'F04', 'F05', 'F06', 'F07', 'G00', 'G01', 'G02', 'G03', 'G04', 'G05', 'G06', 'M00', 'M01', 'M02', 'M03', 'M04', 'M05', 'M06', 'M07', 'Y01', 'Z00', 'Z01', 'INTER_RATING_CD', 'O_INDUSTRY_CD', 'S_INDUSTRY_CD', 'T_INDUSTRY_CD', 'F_INDUSTRY_CD', 'CUS_SCALE_TP_CD', 'ORG_TP_CD', 'INDUSTRY_TP_CD', 'INDUSTRY_MAIN_TP_CD', 'CUS_LAYER_CD', 'CUS_CLASS_CD', 'CUS_GRADE_CD', 'LMT_STATE_CD', 'CREDIT_LINE_CD', 'AERA', 'BAS_AC_IS_BOCOM', 'OWN_GROUP_LAYER', 'OWN_GROUP_CLASS', 'OWN_GROUP_GRADE', 'STRATEGIC_CUST', 'STRATEGIC_MGR_CODE', 'APPROVED_LMT', 'APPROVED_RISK_LMT', 'BAL', 'RISK_BAL', 'ORI_BAL', 'ZT_LMT', 'LXD_LMT', 'ENTSTATUS', 'IS_SHIXIN', 'IS_ANDI', 'IS_PERFORMANCE', 'IS_GL_SHIXIN', 'IS_GL_ANDI', 'IS_GL_PERFORMANCE']\n",
    "\n",
    "'''\n",
    "Model Report\n",
    "Accuracy : 0.9201\n",
    "AUC Score (Train): 0.854075\n",
    "precision: 56.93%, recall: 15.06%\n",
    "'''\n",
    "\n",
    "xgb1 = XGBClassifier(\n",
    " learning_rate =0.1,\n",
    " n_estimators=1000,\n",
    " max_depth=5,\n",
    " min_child_weight=1,\n",
    " gamma=0,\n",
    " subsample=0.8,\n",
    " colsample_bytree=0.8,\n",
    " objective= 'binary:logistic',\n",
    " nthread=8,\n",
    " scale_pos_weight=1,\n",
    " seed=27)\n",
    "modelfit(xgb1, X_train, X_test, y_train, y_test, predictors)\n"
   ]
  },
  {
   "cell_type": "code",
   "execution_count": 37,
   "metadata": {
    "ExecuteTime": {
     "end_time": "2018-05-23T09:37:13.546726Z",
     "start_time": "2018-05-23T09:30:40.202647Z"
    }
   },
   "outputs": [
    {
     "data": {
      "text/plain": [
       "([mean: 0.85085, std: 0.00685, params: {'max_depth': 3, 'min_child_weight': 1},\n",
       "  mean: 0.84975, std: 0.00706, params: {'max_depth': 3, 'min_child_weight': 3},\n",
       "  mean: 0.85120, std: 0.00723, params: {'max_depth': 3, 'min_child_weight': 5},\n",
       "  mean: 0.85678, std: 0.00528, params: {'max_depth': 5, 'min_child_weight': 1},\n",
       "  mean: 0.85471, std: 0.00455, params: {'max_depth': 5, 'min_child_weight': 3},\n",
       "  mean: 0.85658, std: 0.00650, params: {'max_depth': 5, 'min_child_weight': 5},\n",
       "  mean: 0.85623, std: 0.00460, params: {'max_depth': 7, 'min_child_weight': 1},\n",
       "  mean: 0.85761, std: 0.00407, params: {'max_depth': 7, 'min_child_weight': 3},\n",
       "  mean: 0.85603, std: 0.00286, params: {'max_depth': 7, 'min_child_weight': 5},\n",
       "  mean: 0.85615, std: 0.00562, params: {'max_depth': 9, 'min_child_weight': 1},\n",
       "  mean: 0.85585, std: 0.00406, params: {'max_depth': 9, 'min_child_weight': 3},\n",
       "  mean: 0.85676, std: 0.00449, params: {'max_depth': 9, 'min_child_weight': 5}],\n",
       " {'max_depth': 7, 'min_child_weight': 3},\n",
       " 0.8576068961640265)"
      ]
     },
     "execution_count": 37,
     "metadata": {},
     "output_type": "execute_result"
    }
   ],
   "source": [
    "param_test1 = {\n",
    "# 'max_depth':range(3,10,2),\n",
    " 'max_depth':[3,5,7,9],\n",
    "# 'min_child_weight':range(1,6,2)\n",
    " 'min_child_weight':[1,3,5,8,10,12]\n",
    "}\n",
    "\n",
    "'''\n",
    "([mean: 0.85085, std: 0.00685, params: {'max_depth': 3, 'min_child_weight': 1},\n",
    "  mean: 0.84975, std: 0.00706, params: {'max_depth': 3, 'min_child_weight': 3},\n",
    "  mean: 0.85120, std: 0.00723, params: {'max_depth': 3, 'min_child_weight': 5},\n",
    "  mean: 0.85678, std: 0.00528, params: {'max_depth': 5, 'min_child_weight': 1},\n",
    "  mean: 0.85471, std: 0.00455, params: {'max_depth': 5, 'min_child_weight': 3},\n",
    "  mean: 0.85658, std: 0.00650, params: {'max_depth': 5, 'min_child_weight': 5},\n",
    "  mean: 0.85623, std: 0.00460, params: {'max_depth': 7, 'min_child_weight': 1},\n",
    "  mean: 0.85761, std: 0.00407, params: {'max_depth': 7, 'min_child_weight': 3},\n",
    "  mean: 0.85603, std: 0.00286, params: {'max_depth': 7, 'min_child_weight': 5},\n",
    "  mean: 0.85615, std: 0.00562, params: {'max_depth': 9, 'min_child_weight': 1},\n",
    "  mean: 0.85585, std: 0.00406, params: {'max_depth': 9, 'min_child_weight': 3},\n",
    "  mean: 0.85676, std: 0.00449, params: {'max_depth': 9, 'min_child_weight': 5}],\n",
    " {'max_depth': 7, 'min_child_weight': 3},\n",
    " 0.8576068961640265)\n",
    "'''\n",
    "gsearch1 = GridSearchCV(estimator = XGBClassifier(learning_rate =0.1, n_estimators=140, max_depth=5,\n",
    " min_child_weight=1, gamma=0, subsample=0.8, colsample_bytree=0.8,\n",
    " objective= 'binary:logistic', nthread=4, scale_pos_weight=1, seed=27), \n",
    " param_grid = param_test1, scoring='roc_auc', n_jobs=4, iid=False, cv=5)\n",
    "gsearch1.fit(X_train,y_train)\n",
    "gsearch1.grid_scores_, gsearch1.best_params_, gsearch1.best_score_\n",
    "\n"
   ]
  },
  {
   "cell_type": "code",
   "execution_count": 38,
   "metadata": {
    "ExecuteTime": {
     "end_time": "2018-05-23T09:45:08.064804Z",
     "start_time": "2018-05-23T09:39:18.135367Z"
    }
   },
   "outputs": [
    {
     "data": {
      "text/plain": [
       "([mean: 0.85661, std: 0.00402, params: {'max_depth': 6, 'min_child_weight': 2},\n",
       "  mean: 0.85629, std: 0.00388, params: {'max_depth': 6, 'min_child_weight': 3},\n",
       "  mean: 0.85834, std: 0.00271, params: {'max_depth': 6, 'min_child_weight': 4},\n",
       "  mean: 0.85449, std: 0.00367, params: {'max_depth': 7, 'min_child_weight': 2},\n",
       "  mean: 0.85761, std: 0.00407, params: {'max_depth': 7, 'min_child_weight': 3},\n",
       "  mean: 0.85684, std: 0.00299, params: {'max_depth': 7, 'min_child_weight': 4},\n",
       "  mean: 0.85398, std: 0.00380, params: {'max_depth': 8, 'min_child_weight': 2},\n",
       "  mean: 0.85549, std: 0.00288, params: {'max_depth': 8, 'min_child_weight': 3},\n",
       "  mean: 0.85701, std: 0.00285, params: {'max_depth': 8, 'min_child_weight': 4}],\n",
       " {'max_depth': 6, 'min_child_weight': 4},\n",
       " 0.8583362939730854)"
      ]
     },
     "execution_count": 38,
     "metadata": {},
     "output_type": "execute_result"
    }
   ],
   "source": [
    "param_test2 = {\n",
    " 'max_depth':[6,7,8],\n",
    " 'min_child_weight':[2,3,4]\n",
    "}\n",
    "gsearch2 = GridSearchCV(estimator = XGBClassifier( learning_rate=0.1, n_estimators=140, max_depth=5,\n",
    " min_child_weight=2, gamma=0, subsample=0.8, colsample_bytree=0.8,\n",
    " objective= 'binary:logistic', nthread=4, scale_pos_weight=1, seed=27), \n",
    " param_grid = param_test2, scoring='roc_auc', n_jobs=4, iid=False, cv=5)\n",
    "gsearch2.fit(X_train,y_train)\n",
    "gsearch2.grid_scores_, gsearch2.best_params_, gsearch2.best_score_\n",
    "\n",
    "'''\n",
    "([mean: 0.85661, std: 0.00402, params: {'max_depth': 6, 'min_child_weight': 2},\n",
    "  mean: 0.85629, std: 0.00388, params: {'max_depth': 6, 'min_child_weight': 3},\n",
    "  mean: 0.85834, std: 0.00271, params: {'max_depth': 6, 'min_child_weight': 4},\n",
    "  mean: 0.85449, std: 0.00367, params: {'max_depth': 7, 'min_child_weight': 2},\n",
    "  mean: 0.85761, std: 0.00407, params: {'max_depth': 7, 'min_child_weight': 3},\n",
    "  mean: 0.85684, std: 0.00299, params: {'max_depth': 7, 'min_child_weight': 4},\n",
    "  mean: 0.85398, std: 0.00380, params: {'max_depth': 8, 'min_child_weight': 2},\n",
    "  mean: 0.85549, std: 0.00288, params: {'max_depth': 8, 'min_child_weight': 3},\n",
    "  mean: 0.85701, std: 0.00285, params: {'max_depth': 8, 'min_child_weight': 4}],\n",
    " {'max_depth': 6, 'min_child_weight': 4},\n",
    " 0.8583362939730854)\n",
    "'''"
   ]
  },
  {
   "cell_type": "code",
   "execution_count": 46,
   "metadata": {
    "ExecuteTime": {
     "end_time": "2018-05-23T10:00:14.655736Z",
     "start_time": "2018-05-23T09:59:10.013989Z"
    }
   },
   "outputs": [
    {
     "data": {
      "text/plain": [
       "([mean: 0.85572, std: 0.00602, params: {'min_child_weight': 4},\n",
       "  mean: 0.85358, std: 0.00686, params: {'min_child_weight': 6}],\n",
       " {'min_child_weight': 4},\n",
       " 0.8557219639498523)"
      ]
     },
     "execution_count": 46,
     "metadata": {},
     "output_type": "execute_result"
    }
   ],
   "source": [
    "param_test2b = {\n",
    " 'min_child_weight':[4,6]\n",
    "}\n",
    "gsearch2b = GridSearchCV(estimator = XGBClassifier( learning_rate=0.1, n_estimators=140, max_depth=4,\n",
    " min_child_weight=2, gamma=0, subsample=0.8, colsample_bytree=0.8,\n",
    " objective= 'binary:logistic', nthread=4, scale_pos_weight=1, seed=27), \n",
    " param_grid = param_test2b, scoring='roc_auc', n_jobs=4, iid=False, cv=5)\n",
    "gsearch2b.fit(X_train,y_train)\n",
    "gsearch2b.grid_scores_, gsearch2b.best_params_, gsearch2b.best_score_\n",
    "\n",
    "'''\n",
    "([mean: 0.85572, std: 0.00602, params: {'min_child_weight': 4},\n",
    "  mean: 0.85358, std: 0.00686, params: {'min_child_weight': 6}],\n",
    " {'min_child_weight': 4},\n",
    " 0.8557219639498523)\n",
    "'''"
   ]
  },
  {
   "cell_type": "code",
   "execution_count": 45,
   "metadata": {
    "ExecuteTime": {
     "end_time": "2018-05-23T09:59:10.010980Z",
     "start_time": "2018-05-23T09:57:01.930366Z"
    }
   },
   "outputs": [
    {
     "data": {
      "text/plain": [
       "([mean: 0.85358, std: 0.00686, params: {'gamma': 0.0},\n",
       "  mean: 0.85437, std: 0.00628, params: {'gamma': 0.1},\n",
       "  mean: 0.85447, std: 0.00542, params: {'gamma': 0.2},\n",
       "  mean: 0.85478, std: 0.00499, params: {'gamma': 0.3},\n",
       "  mean: 0.85528, std: 0.00650, params: {'gamma': 0.4}],\n",
       " {'gamma': 0.4},\n",
       " 0.8552776038698229)"
      ]
     },
     "execution_count": 45,
     "metadata": {},
     "output_type": "execute_result"
    }
   ],
   "source": [
    "param_test3 = {\n",
    " 'gamma':[i/10.0 for i in range(0,5)]\n",
    "}\n",
    "gsearch3 = GridSearchCV(estimator = XGBClassifier( learning_rate =0.1, n_estimators=140, max_depth=4,\n",
    " min_child_weight=6, gamma=0, subsample=0.8, colsample_bytree=0.8,\n",
    " objective= 'binary:logistic', nthread=4, scale_pos_weight=1,seed=27), \n",
    " param_grid = param_test3, scoring='roc_auc',n_jobs=4,iid=False, cv=5)\n",
    "gsearch3.fit(X_train,y_train)\n",
    "gsearch3.grid_scores_, gsearch3.best_params_, gsearch3.best_score_\n",
    "\n",
    "'''\n",
    "([mean: 0.85358, std: 0.00686, params: {'gamma': 0.0},\n",
    "  mean: 0.85437, std: 0.00628, params: {'gamma': 0.1},\n",
    "  mean: 0.85447, std: 0.00542, params: {'gamma': 0.2},\n",
    "  mean: 0.85478, std: 0.00499, params: {'gamma': 0.3},\n",
    "  mean: 0.85528, std: 0.00650, params: {'gamma': 0.4}],\n",
    " {'gamma': 0.4},\n",
    " 0.8552776038698229)\n",
    "'''"
   ]
  },
  {
   "cell_type": "code",
   "execution_count": 47,
   "metadata": {
    "ExecuteTime": {
     "end_time": "2018-05-24T00:40:36.440501Z",
     "start_time": "2018-05-24T00:39:49.223558Z"
    }
   },
   "outputs": [
    {
     "name": "stdout",
     "output_type": "stream",
     "text": [
      "\n",
      "Model Report\n",
      "Accuracy : 0.9204\n",
      "AUC Score (Train): 0.857030\n",
      "precision: 57.55%, recall: 15.44%\n"
     ]
    },
    {
     "name": "stderr",
     "output_type": "stream",
     "text": [
      "C:\\Dev\\anaconda3\\lib\\site-packages\\sklearn\\preprocessing\\label.py:151: DeprecationWarning: The truth value of an empty array is ambiguous. Returning False, but in future this will result in an error. Use `array.size > 0` to check that an array is not empty.\n",
      "  if diff:\n"
     ]
    }
   ],
   "source": [
    "xgb2 = XGBClassifier(\n",
    " learning_rate =0.1,\n",
    " n_estimators=1000,\n",
    " max_depth=6,\n",
    " min_child_weight=4,\n",
    " gamma=0.4,\n",
    " subsample=0.8,\n",
    " colsample_bytree=0.8,\n",
    " objective= 'binary:logistic',\n",
    " nthread=4,\n",
    " scale_pos_weight=1,\n",
    " seed=27)\n",
    "modelfit(xgb2,  X_train, X_test, y_train, y_test, predictors)\n",
    "\n",
    "'''\n",
    "Model Report\n",
    "Accuracy : 0.9204\n",
    "AUC Score (Train): 0.857030\n",
    "precision: 57.55%, recall: 15.44%\n",
    "'''"
   ]
  },
  {
   "cell_type": "code",
   "execution_count": 53,
   "metadata": {
    "ExecuteTime": {
     "end_time": "2018-05-24T01:49:24.763430Z",
     "start_time": "2018-05-24T01:37:16.169926Z"
    }
   },
   "outputs": [
    {
     "data": {
      "text/plain": [
       "([mean: 0.85298, std: 0.00695, params: {'colsample_bytree': 0.6, 'subsample': 0.6},\n",
       "  mean: 0.85408, std: 0.00567, params: {'colsample_bytree': 0.6, 'subsample': 0.7},\n",
       "  mean: 0.85724, std: 0.00275, params: {'colsample_bytree': 0.6, 'subsample': 0.8},\n",
       "  mean: 0.85511, std: 0.00456, params: {'colsample_bytree': 0.6, 'subsample': 0.9},\n",
       "  mean: 0.85452, std: 0.00646, params: {'colsample_bytree': 0.7, 'subsample': 0.6},\n",
       "  mean: 0.85659, std: 0.00622, params: {'colsample_bytree': 0.7, 'subsample': 0.7},\n",
       "  mean: 0.85723, std: 0.00502, params: {'colsample_bytree': 0.7, 'subsample': 0.8},\n",
       "  mean: 0.85503, std: 0.00532, params: {'colsample_bytree': 0.7, 'subsample': 0.9},\n",
       "  mean: 0.85489, std: 0.00326, params: {'colsample_bytree': 0.8, 'subsample': 0.6},\n",
       "  mean: 0.85579, std: 0.00246, params: {'colsample_bytree': 0.8, 'subsample': 0.7},\n",
       "  mean: 0.85808, std: 0.00623, params: {'colsample_bytree': 0.8, 'subsample': 0.8},\n",
       "  mean: 0.85666, std: 0.00183, params: {'colsample_bytree': 0.8, 'subsample': 0.9},\n",
       "  mean: 0.85502, std: 0.00644, params: {'colsample_bytree': 0.9, 'subsample': 0.6},\n",
       "  mean: 0.85592, std: 0.00651, params: {'colsample_bytree': 0.9, 'subsample': 0.7},\n",
       "  mean: 0.85480, std: 0.00369, params: {'colsample_bytree': 0.9, 'subsample': 0.8},\n",
       "  mean: 0.85435, std: 0.00395, params: {'colsample_bytree': 0.9, 'subsample': 0.9}],\n",
       " {'colsample_bytree': 0.8, 'subsample': 0.8},\n",
       " 0.8580817952553152)"
      ]
     },
     "execution_count": 53,
     "metadata": {},
     "output_type": "execute_result"
    }
   ],
   "source": [
    "param_test4 = {\n",
    " 'subsample':[i/10.0 for i in range(6,10)],\n",
    " 'colsample_bytree':[i/10.0 for i in range(6,10)]\n",
    "}\n",
    "'''\n",
    "([mean: 0.85298, std: 0.00695, params: {'colsample_bytree': 0.6, 'subsample': 0.6},\n",
    "  mean: 0.85408, std: 0.00567, params: {'colsample_bytree': 0.6, 'subsample': 0.7},\n",
    "  mean: 0.85724, std: 0.00275, params: {'colsample_bytree': 0.6, 'subsample': 0.8},\n",
    "  mean: 0.85511, std: 0.00456, params: {'colsample_bytree': 0.6, 'subsample': 0.9},\n",
    "  mean: 0.85452, std: 0.00646, params: {'colsample_bytree': 0.7, 'subsample': 0.6},\n",
    "  mean: 0.85659, std: 0.00622, params: {'colsample_bytree': 0.7, 'subsample': 0.7},\n",
    "  mean: 0.85723, std: 0.00502, params: {'colsample_bytree': 0.7, 'subsample': 0.8},\n",
    "  mean: 0.85503, std: 0.00532, params: {'colsample_bytree': 0.7, 'subsample': 0.9},\n",
    "  mean: 0.85489, std: 0.00326, params: {'colsample_bytree': 0.8, 'subsample': 0.6},\n",
    "  mean: 0.85579, std: 0.00246, params: {'colsample_bytree': 0.8, 'subsample': 0.7},\n",
    "  mean: 0.85808, std: 0.00623, params: {'colsample_bytree': 0.8, 'subsample': 0.8},\n",
    "  mean: 0.85666, std: 0.00183, params: {'colsample_bytree': 0.8, 'subsample': 0.9},\n",
    "  mean: 0.85502, std: 0.00644, params: {'colsample_bytree': 0.9, 'subsample': 0.6},\n",
    "  mean: 0.85592, std: 0.00651, params: {'colsample_bytree': 0.9, 'subsample': 0.7},\n",
    "  mean: 0.85480, std: 0.00369, params: {'colsample_bytree': 0.9, 'subsample': 0.8},\n",
    "  mean: 0.85435, std: 0.00395, params: {'colsample_bytree': 0.9, 'subsample': 0.9}],\n",
    " {'colsample_bytree': 0.8, 'subsample': 0.8},\n",
    " 0.8580817952553152)\n",
    "'''\n",
    "gsearch4 = GridSearchCV(estimator = XGBClassifier( learning_rate =0.1, n_estimators=177, max_depth=6,\n",
    " min_child_weight=4, gamma=0.4, subsample=0.8, colsample_bytree=0.8,\n",
    " objective= 'binary:logistic', nthread=4, scale_pos_weight=1,seed=27), \n",
    " param_grid = param_test4, scoring='roc_auc',n_jobs=4,iid=False, cv=5)\n",
    "gsearch4.fit(X_train,y_train)\n",
    "gsearch4.grid_scores_, gsearch4.best_params_, gsearch4.best_score_"
   ]
  },
  {
   "cell_type": "code",
   "execution_count": 55,
   "metadata": {
    "ExecuteTime": {
     "end_time": "2018-05-24T02:03:29.848989Z",
     "start_time": "2018-05-24T01:56:35.356352Z"
    }
   },
   "outputs": [
    {
     "data": {
      "text/plain": [
       "([mean: 0.85652, std: 0.00395, params: {'colsample_bytree': 0.75, 'subsample': 0.75},\n",
       "  mean: 0.85743, std: 0.00421, params: {'colsample_bytree': 0.75, 'subsample': 0.8},\n",
       "  mean: 0.85489, std: 0.00585, params: {'colsample_bytree': 0.75, 'subsample': 0.85},\n",
       "  mean: 0.85530, std: 0.00557, params: {'colsample_bytree': 0.8, 'subsample': 0.75},\n",
       "  mean: 0.85808, std: 0.00623, params: {'colsample_bytree': 0.8, 'subsample': 0.8},\n",
       "  mean: 0.85529, std: 0.00638, params: {'colsample_bytree': 0.8, 'subsample': 0.85},\n",
       "  mean: 0.85700, std: 0.00492, params: {'colsample_bytree': 0.85, 'subsample': 0.75},\n",
       "  mean: 0.85531, std: 0.00333, params: {'colsample_bytree': 0.85, 'subsample': 0.8},\n",
       "  mean: 0.85322, std: 0.00490, params: {'colsample_bytree': 0.85, 'subsample': 0.85}],\n",
       " {'colsample_bytree': 0.8, 'subsample': 0.8},\n",
       " 0.8580817952553152)"
      ]
     },
     "execution_count": 55,
     "metadata": {},
     "output_type": "execute_result"
    }
   ],
   "source": [
    "param_test5 = {\n",
    " 'subsample':[i/100.0 for i in range(75,90,5)],\n",
    " 'colsample_bytree':[i/100.0 for i in range(75,90,5)]\n",
    "}\n",
    "'''\n",
    "([mean: 0.85652, std: 0.00395, params: {'colsample_bytree': 0.75, 'subsample': 0.75},\n",
    "  mean: 0.85743, std: 0.00421, params: {'colsample_bytree': 0.75, 'subsample': 0.8},\n",
    "  mean: 0.85489, std: 0.00585, params: {'colsample_bytree': 0.75, 'subsample': 0.85},\n",
    "  mean: 0.85530, std: 0.00557, params: {'colsample_bytree': 0.8, 'subsample': 0.75},\n",
    "  mean: 0.85808, std: 0.00623, params: {'colsample_bytree': 0.8, 'subsample': 0.8},\n",
    "  mean: 0.85529, std: 0.00638, params: {'colsample_bytree': 0.8, 'subsample': 0.85},\n",
    "  mean: 0.85700, std: 0.00492, params: {'colsample_bytree': 0.85, 'subsample': 0.75},\n",
    "  mean: 0.85531, std: 0.00333, params: {'colsample_bytree': 0.85, 'subsample': 0.8},\n",
    "  mean: 0.85322, std: 0.00490, params: {'colsample_bytree': 0.85, 'subsample': 0.85}],\n",
    " {'colsample_bytree': 0.8, 'subsample': 0.8},\n",
    " 0.8580817952553152)\n",
    "'''\n",
    "\n",
    "gsearch5 = GridSearchCV(estimator = XGBClassifier( learning_rate =0.1, n_estimators=177, max_depth=6,\n",
    " min_child_weight=4, gamma=0.4, subsample=0.8, colsample_bytree=0.8,\n",
    " objective= 'binary:logistic', nthread=4, scale_pos_weight=1,seed=27), \n",
    " param_grid = param_test5, scoring='roc_auc',n_jobs=4,iid=False, cv=5)\n",
    "gsearch5.fit(X_train,y_train)\n",
    "gsearch5.grid_scores_, gsearch5.best_params_, gsearch5.best_score_"
   ]
  },
  {
   "cell_type": "code",
   "execution_count": 56,
   "metadata": {
    "ExecuteTime": {
     "end_time": "2018-05-24T02:10:31.683552Z",
     "start_time": "2018-05-24T02:06:41.534637Z"
    }
   },
   "outputs": [
    {
     "data": {
      "text/plain": [
       "([mean: 0.85808, std: 0.00623, params: {'reg_alpha': 1e-05},\n",
       "  mean: 0.85604, std: 0.00551, params: {'reg_alpha': 0.01},\n",
       "  mean: 0.85773, std: 0.00358, params: {'reg_alpha': 0.1},\n",
       "  mean: 0.85798, std: 0.00677, params: {'reg_alpha': 1},\n",
       "  mean: 0.79182, std: 0.01117, params: {'reg_alpha': 100}],\n",
       " {'reg_alpha': 1e-05},\n",
       " 0.858081795255315)"
      ]
     },
     "execution_count": 56,
     "metadata": {},
     "output_type": "execute_result"
    }
   ],
   "source": [
    "param_test6 = {\n",
    " 'reg_alpha':[1e-5, 1e-2, 0.1, 1, 100]\n",
    "}\n",
    "\n",
    "'''\n",
    "([mean: 0.85808, std: 0.00623, params: {'reg_alpha': 1e-05},\n",
    "  mean: 0.85604, std: 0.00551, params: {'reg_alpha': 0.01},\n",
    "  mean: 0.85773, std: 0.00358, params: {'reg_alpha': 0.1},\n",
    "  mean: 0.85798, std: 0.00677, params: {'reg_alpha': 1},\n",
    "  mean: 0.79182, std: 0.01117, params: {'reg_alpha': 100}],\n",
    " {'reg_alpha': 1e-05},\n",
    " 0.858081795255315)\n",
    "'''\n",
    "\n",
    "gsearch6 = GridSearchCV(estimator = XGBClassifier( learning_rate =0.1, n_estimators=177, max_depth=6,\n",
    " min_child_weight=4, gamma=0.4, subsample=0.8, colsample_bytree=0.8,\n",
    " objective= 'binary:logistic', nthread=4, scale_pos_weight=1,seed=27), \n",
    " param_grid = param_test6, scoring='roc_auc',n_jobs=4,iid=False, cv=5)\n",
    "gsearch6.fit(X_train,y_train)\n",
    "gsearch6.grid_scores_, gsearch6.best_params_, gsearch6.best_score_"
   ]
  },
  {
   "cell_type": "code",
   "execution_count": 57,
   "metadata": {
    "ExecuteTime": {
     "end_time": "2018-05-24T02:17:48.069556Z",
     "start_time": "2018-05-24T02:15:30.292270Z"
    }
   },
   "outputs": [
    {
     "data": {
      "text/plain": [
       "([mean: 0.85808, std: 0.00623, params: {'reg_alpha': 1e-07},\n",
       "  mean: 0.85808, std: 0.00623, params: {'reg_alpha': 1e-06},\n",
       "  mean: 0.85808, std: 0.00623, params: {'reg_alpha': 1e-05}],\n",
       " {'reg_alpha': 1e-06},\n",
       " 0.8580817952553152)"
      ]
     },
     "execution_count": 57,
     "metadata": {},
     "output_type": "execute_result"
    }
   ],
   "source": [
    "param_test7 = {\n",
    " 'reg_alpha':[1e-7, 1e-6, 1e-5]\n",
    "}\n",
    "'''\n",
    "([mean: 0.85808, std: 0.00623, params: {'reg_alpha': 1e-07},\n",
    "  mean: 0.85808, std: 0.00623, params: {'reg_alpha': 1e-06},\n",
    "  mean: 0.85808, std: 0.00623, params: {'reg_alpha': 1e-05}],\n",
    " {'reg_alpha': 1e-06},\n",
    " 0.8580817952553152)\n",
    "'''\n",
    "gsearch7 = GridSearchCV(estimator = XGBClassifier( learning_rate =0.1, n_estimators=177, max_depth=6,\n",
    " min_child_weight=4, gamma=0.4, subsample=0.8, colsample_bytree=0.8,\n",
    " objective= 'binary:logistic', nthread=4, scale_pos_weight=1,seed=27), \n",
    " param_grid = param_test7, scoring='roc_auc',n_jobs=4,iid=False, cv=5)\n",
    "gsearch7.fit(X_train,y_train)\n",
    "gsearch7.grid_scores_, gsearch7.best_params_, gsearch7.best_score_"
   ]
  },
  {
   "cell_type": "code",
   "execution_count": 60,
   "metadata": {
    "ExecuteTime": {
     "end_time": "2018-05-24T02:20:37.759129Z",
     "start_time": "2018-05-24T02:19:56.468794Z"
    }
   },
   "outputs": [
    {
     "name": "stdout",
     "output_type": "stream",
     "text": [
      "\n",
      "Model Report\n",
      "Accuracy : 0.9204\n",
      "AUC Score (Train): 0.857030\n",
      "precision: 57.55%, recall: 15.44%\n"
     ]
    },
    {
     "name": "stderr",
     "output_type": "stream",
     "text": [
      "C:\\Dev\\anaconda3\\lib\\site-packages\\sklearn\\preprocessing\\label.py:151: DeprecationWarning: The truth value of an empty array is ambiguous. Returning False, but in future this will result in an error. Use `array.size > 0` to check that an array is not empty.\n",
      "  if diff:\n"
     ]
    }
   ],
   "source": [
    "xgb3 = XGBClassifier(\n",
    " learning_rate =0.1,\n",
    " n_estimators=1000,\n",
    " max_depth=6,\n",
    " min_child_weight=4,\n",
    " gamma=0.4,\n",
    " subsample=0.8,\n",
    " colsample_bytree=0.8,\n",
    " reg_alpha=1e-06,\n",
    " objective= 'binary:logistic',\n",
    " nthread=4,\n",
    " scale_pos_weight=1,\n",
    " seed=27)\n",
    "\n",
    "'''\n",
    "Model Report\n",
    "Accuracy : 0.9204\n",
    "AUC Score (Train): 0.857030\n",
    "precision: 57.55%, recall: 15.44%\n",
    "'''\n",
    "\n",
    "modelfit(xgb3, X_train, X_test, y_train, y_test, predictors)"
   ]
  },
  {
   "cell_type": "code",
   "execution_count": 61,
   "metadata": {
    "ExecuteTime": {
     "end_time": "2018-05-24T02:27:29.363308Z",
     "start_time": "2018-05-24T02:20:56.738179Z"
    }
   },
   "outputs": [
    {
     "name": "stderr",
     "output_type": "stream",
     "text": [
      "C:\\Dev\\anaconda3\\lib\\site-packages\\sklearn\\preprocessing\\label.py:151: DeprecationWarning: The truth value of an empty array is ambiguous. Returning False, but in future this will result in an error. Use `array.size > 0` to check that an array is not empty.\n",
      "  if diff:\n"
     ]
    },
    {
     "name": "stdout",
     "output_type": "stream",
     "text": [
      "\n",
      "Model Report\n",
      "Accuracy : 0.9211\n",
      "AUC Score (Train): 0.859515\n",
      "precision: 59.40%, recall: 15.25%\n"
     ]
    }
   ],
   "source": [
    "xgb4 = XGBClassifier(\n",
    " learning_rate =0.01,\n",
    " n_estimators=5000,\n",
    " max_depth=6,\n",
    " min_child_weight=4,\n",
    " gamma=0.4,\n",
    " subsample=0.8,\n",
    " colsample_bytree=0.8,\n",
    " reg_alpha=1e-06,\n",
    " objective= 'binary:logistic',\n",
    " nthread=4,\n",
    " scale_pos_weight=1,\n",
    " seed=27)\n",
    "\n",
    "'''\n",
    "Model Report\n",
    "Accuracy : 0.9211\n",
    "AUC Score (Train): 0.859515\n",
    "precision: 59.40%, recall: 15.25%\n",
    "'''\n",
    "modelfit(xgb4, X_train, X_test, y_train, y_test, predictors)"
   ]
  },
  {
   "cell_type": "code",
   "execution_count": null,
   "metadata": {},
   "outputs": [],
   "source": []
  },
  {
   "cell_type": "code",
   "execution_count": null,
   "metadata": {},
   "outputs": [],
   "source": []
  }
 ],
 "metadata": {
  "kernelspec": {
   "display_name": "Python 3",
   "language": "python",
   "name": "python3"
  }
 },
 "nbformat": 4,
 "nbformat_minor": 2
}
